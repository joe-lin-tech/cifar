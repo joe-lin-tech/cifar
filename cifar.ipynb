{
 "cells": [
  {
   "cell_type": "code",
   "execution_count": 229,
   "metadata": {},
   "outputs": [],
   "source": [
    "import torch\n",
    "import torch.nn as nn\n",
    "import torch.nn.functional as F\n",
    "from torch.optim import Adam\n",
    "from torch.utils.data import DataLoader\n",
    "import torchvision\n",
    "from tqdm import tqdm"
   ]
  },
  {
   "cell_type": "code",
   "execution_count": 230,
   "metadata": {},
   "outputs": [],
   "source": [
    "BATCH_SIZE = 64\n",
    "EPOCHS = 30\n",
    "LEARNING_RATE = 1e-3\n",
    "CHECKPOINT_FOLDER = 'checkpoint'\n",
    "DEVICE = torch.device('cpu')"
   ]
  },
  {
   "cell_type": "code",
   "execution_count": 231,
   "metadata": {},
   "outputs": [
    {
     "name": "stdout",
     "output_type": "stream",
     "text": [
      "Files already downloaded and verified\n",
      "Files already downloaded and verified\n"
     ]
    }
   ],
   "source": [
    "transforms = torchvision.transforms.Compose([\n",
    "    torchvision.transforms.ToTensor(),\n",
    "    torchvision.transforms.Normalize((0.4914, 0.4822, 0.4465), (0.2470, 0.2435, 0.2616))\n",
    "])\n",
    "\n",
    "cifar_iter = torchvision.datasets.CIFAR10(root='./data', train=True, download=True, transform=transforms)\n",
    "train_iter, val_iter = torch.utils.data.random_split(cifar_iter, [45000, 5000])\n",
    "train_dataloader = DataLoader(train_iter, batch_size=BATCH_SIZE, shuffle=True)\n",
    "val_dataloader = DataLoader(val_iter, batch_size=BATCH_SIZE, shuffle=False)\n",
    "\n",
    "test_iter = torchvision.datasets.CIFAR10(root='./data', train=False, download=True, transform=transforms)\n",
    "test_dataloader = DataLoader(test_iter, batch_size=BATCH_SIZE, shuffle=False)"
   ]
  },
  {
   "cell_type": "code",
   "execution_count": 232,
   "metadata": {},
   "outputs": [],
   "source": [
    "# print(train_iter.data.shape)\n",
    "# data = torch.tensor(train_iter.data, dtype=torch.float32)\n",
    "# mean = torch.mean(data, dim=(0, 1, 2)) / 255\n",
    "# std = torch.std(data, dim=(0, 1, 2)) / 255\n",
    "# print(mean, std)"
   ]
  },
  {
   "cell_type": "code",
   "execution_count": 233,
   "metadata": {},
   "outputs": [],
   "source": [
    "class ImageClassifier(nn.Module):\n",
    "    def __init__(self):\n",
    "        super(ImageClassifier, self).__init__()\n",
    "        self.conv1 = nn.Conv2d(3, 8, kernel_size=5, stride=1, padding=2)\n",
    "        self.conv2 = nn.Conv2d(8, 16, kernel_size=5, stride=1, padding=2)\n",
    "        self.conv3 = nn.Conv2d(16, 32, kernel_size=5, stride=1, padding=2)\n",
    "        self.pool = nn.MaxPool2d(2, 2)\n",
    "        \n",
    "        self.linear = nn.Sequential(\n",
    "            nn.Linear(512, 64),\n",
    "            nn.ReLU(),\n",
    "            nn.Linear(64, 32),\n",
    "            nn.ReLU(),\n",
    "            nn.Linear(32, 10),\n",
    "        )\n",
    "    \n",
    "    def forward(self, x):\n",
    "        x = self.pool(F.relu(self.conv1(x)))\n",
    "        x = self.pool(F.relu(self.conv2(x)))\n",
    "        x = self.pool(F.relu(self.conv3(x)))\n",
    "\n",
    "        x = torch.flatten(x, 1)\n",
    "        x = self.linear(x)\n",
    "        return x"
   ]
  },
  {
   "cell_type": "code",
   "execution_count": 234,
   "metadata": {},
   "outputs": [],
   "source": [
    "model = ImageClassifier()\n",
    "model.to(DEVICE)\n",
    "\n",
    "optimizer = Adam(model.parameters(), lr=LEARNING_RATE, weight_decay=0.01)\n",
    "loss_fn = nn.CrossEntropyLoss()"
   ]
  },
  {
   "cell_type": "code",
   "execution_count": 235,
   "metadata": {},
   "outputs": [],
   "source": [
    "def train_epoch(train_dataloader: DataLoader, model: ImageClassifier, optimizer):\n",
    "    model.train()\n",
    "    losses = 0\n",
    "\n",
    "    for images, labels in tqdm(train_dataloader):\n",
    "        images.to(DEVICE)\n",
    "        labels.to(DEVICE)\n",
    "\n",
    "        logits = model(images)\n",
    "        loss = loss_fn(logits, labels)\n",
    "        loss.backward()\n",
    "\n",
    "        optimizer.step()\n",
    "        optimizer.zero_grad()\n",
    "\n",
    "        losses += loss.item()\n",
    "\n",
    "    return losses / len(train_dataloader)"
   ]
  },
  {
   "cell_type": "code",
   "execution_count": 236,
   "metadata": {},
   "outputs": [],
   "source": [
    "def evaluate(val_dataloader: DataLoader, model: ImageClassifier):\n",
    "    model.eval()\n",
    "    losses = 0\n",
    "\n",
    "    for images, labels in val_dataloader:\n",
    "        images.to(DEVICE)\n",
    "        labels.to(DEVICE)\n",
    "\n",
    "        logits = model(images)\n",
    "        loss = loss_fn(logits, labels)\n",
    "\n",
    "        losses += loss.item()\n",
    "\n",
    "    return losses / len(val_dataloader)"
   ]
  },
  {
   "cell_type": "code",
   "execution_count": null,
   "metadata": {},
   "outputs": [],
   "source": [
    "for epoch in range(EPOCHS):\n",
    "    train_loss = train_epoch(train_dataloader, model, optimizer)\n",
    "    val_loss = evaluate(val_dataloader, model)\n",
    "    print(f\"Epoch: {epoch}, Train loss: {train_loss:.3f}, Val loss: {val_loss:.3f}\")\n",
    "    torch.save({\n",
    "        'model_state_dict': model.state_dict(),\n",
    "        'optimizer_state_dict': optimizer.state_dict(),\n",
    "        'train_loss': train_loss,\n",
    "    }, CHECKPOINT_FOLDER + f'/cifar_epoch{epoch}.pt')"
   ]
  },
  {
   "cell_type": "code",
   "execution_count": null,
   "metadata": {},
   "outputs": [],
   "source": []
  },
  {
   "cell_type": "code",
   "execution_count": null,
   "metadata": {},
   "outputs": [],
   "source": []
  }
 ],
 "metadata": {
  "kernelspec": {
   "display_name": "playground",
   "language": "python",
   "name": "python3"
  },
  "language_info": {
   "codemirror_mode": {
    "name": "ipython",
    "version": 3
   },
   "file_extension": ".py",
   "mimetype": "text/x-python",
   "name": "python",
   "nbconvert_exporter": "python",
   "pygments_lexer": "ipython3",
   "version": "3.11.4"
  },
  "orig_nbformat": 4
 },
 "nbformat": 4,
 "nbformat_minor": 2
}
