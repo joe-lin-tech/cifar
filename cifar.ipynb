{
 "cells": [
  {
   "cell_type": "markdown",
   "metadata": {},
   "source": [
    "# CIFAR-10 Image Classification\n",
    "This notebook implements a training and testing pipeline for an image classification task on the CIFAR-10 dataset. CIFAR-10 contains 60,000 32x32 RGB images distributed evenly across 10 image classes (6,000 images per class). The provided dataset splits consists of a train set with 50,000 images and a test set with 10,000 images. Here, the train set is further split into a train set with 45,000 images and a validation set with 5,000 images to allow for model evaluation throughout the training process. The model currently used is a barebones CNN architecture (model architecture will be periodically updated with progress).\n",
    "## Milestones\n",
    "- 10/23: init + setup basic training pipeline\n",
    "- 10/24: achieve ~50% test accuracy with a barebones CNN\n",
    "- 10/27: achieve ~91% test accuracy with resnet architecture"
   ]
  },
  {
   "cell_type": "markdown",
   "metadata": {},
   "source": [
    "## Setup\n",
    "Import essential libraries (PyTorch, numpy, wandb) and declare hyperparameters."
   ]
  },
  {
   "cell_type": "code",
   "execution_count": null,
   "metadata": {},
   "outputs": [],
   "source": [
    "import torch\n",
    "import torch.nn as nn\n",
    "import torch.nn.functional as F\n",
    "from torch.optim import SGD\n",
    "from torch.utils.data import DataLoader\n",
    "from torch.utils.data.sampler import SubsetRandomSampler\n",
    "from torch.optim.lr_scheduler import ReduceLROnPlateau\n",
    "import torchvision\n",
    "import numpy as np\n",
    "import random\n",
    "import os\n",
    "import wandb\n",
    "from tqdm import tqdm\n",
    "\n",
    "BATCH_SIZE = 128\n",
    "EPOCHS = 100\n",
    "LEARNING_RATE = 0.1\n",
    "N_CLASSES = 10\n",
    "CHECKPOINT_FOLDER = 'checkpoint'\n",
    "DEVICE = torch.device('mps')\n",
    "LOG_INTERVAL = 4\n",
    "SEED = 2023\n",
    "\n",
    "random.seed(SEED)\n",
    "os.environ['PYTHONHASHSEED'] = str(SEED)\n",
    "np.random.seed(SEED)\n",
    "torch.manual_seed(SEED)\n",
    "torch.backends.cudnn.deterministic = True\n",
    "torch.backends.cudnn.benchmark = True\n",
    "\n",
    "wandb.init(project=\"cifar\")"
   ]
  },
  {
   "cell_type": "markdown",
   "metadata": {},
   "source": [
    "## Data\n",
    "Load the CIFAR-10 dataset using torchvision's dataset utilities. Apply normalization based on computed mean and std of the training set (see the commented out cell below). Initialize the train, validation, and test dataloaders."
   ]
  },
  {
   "cell_type": "code",
   "execution_count": 10,
   "metadata": {},
   "outputs": [
    {
     "name": "stdout",
     "output_type": "stream",
     "text": [
      "Files already downloaded and verified\n",
      "Files already downloaded and verified\n",
      "Files already downloaded and verified\n"
     ]
    }
   ],
   "source": [
    "augmentation_transforms = torchvision.transforms.Compose([\n",
    "    torchvision.transforms.ToTensor(),\n",
    "    torchvision.transforms.RandomHorizontalFlip(),\n",
    "    # torchvision.transforms.RandomVerticalFlip(),\n",
    "    torchvision.transforms.RandomRotation(10),\n",
    "    torchvision.transforms.RandomResizedCrop((32, 32), (0.8, 1)),\n",
    "    torchvision.transforms.Normalize((0.4914, 0.4822, 0.4465), (0.2470, 0.2435, 0.2616)),\n",
    "])\n",
    "\n",
    "transforms = torchvision.transforms.Compose([\n",
    "    torchvision.transforms.ToTensor(),\n",
    "    torchvision.transforms.Normalize((0.4914, 0.4822, 0.4465), (0.2470, 0.2435, 0.2616))\n",
    "])\n",
    "\n",
    "train_iter = torchvision.datasets.CIFAR10(root='./data', train=True, download=True, transform=augmentation_transforms)\n",
    "val_iter = torchvision.datasets.CIFAR10(root='./data', train=True, download=True, transform=transforms)\n",
    "\n",
    "indices = list(range(len(train_iter)))\n",
    "np.random.shuffle(indices)\n",
    "train_idxs, val_idxs = indices[:45000], indices[-5000:]\n",
    "\n",
    "train_dataloader = DataLoader(train_iter, batch_size=BATCH_SIZE, sampler=SubsetRandomSampler(train_idxs))\n",
    "val_dataloader = DataLoader(val_iter, batch_size=BATCH_SIZE, sampler=SubsetRandomSampler(val_idxs))\n",
    "\n",
    "test_iter = torchvision.datasets.CIFAR10(root='./data', train=False, download=True, transform=transforms)\n",
    "test_dataloader = DataLoader(test_iter, batch_size=BATCH_SIZE, shuffle=False)"
   ]
  },
  {
   "cell_type": "code",
   "execution_count": 11,
   "metadata": {},
   "outputs": [],
   "source": [
    "# print(cifar_iter.data.shape)\n",
    "# data = torch.tensor(cifar_iter.data, dtype=torch.float32)\n",
    "# mean = torch.mean(data, dim=(0, 1, 2)) / 255\n",
    "# std = torch.std(data, dim=(0, 1, 2)) / 255\n",
    "# print(mean, std)"
   ]
  },
  {
   "cell_type": "markdown",
   "metadata": {},
   "source": [
    "## Classification Model\n",
    "Implements a ResNet architecture, which allows for deeper neural networks and gradient flow through residual connections."
   ]
  },
  {
   "cell_type": "code",
   "execution_count": 12,
   "metadata": {},
   "outputs": [],
   "source": [
    "class ResidualBlock(nn.Module):\n",
    "    def __init__(self, in_channels: int, out_channels: int):\n",
    "        super(ResidualBlock, self).__init__()\n",
    "        self.conv1 = nn.Conv2d(in_channels, out_channels, kernel_size=3, stride=1 if in_channels == out_channels else 2, padding=1)\n",
    "        self.batch_norm1 = nn.BatchNorm2d(out_channels)\n",
    "        self.conv2 = nn.Conv2d(out_channels, out_channels, kernel_size=3, stride=1, padding=1)\n",
    "        self.batch_norm2 = nn.BatchNorm2d(out_channels)\n",
    "\n",
    "        if in_channels == out_channels:\n",
    "            self.skip = nn.Identity()\n",
    "        else:\n",
    "            self.skip = nn.Sequential(\n",
    "                nn.Conv2d(in_channels, out_channels, kernel_size=1, stride=2),\n",
    "                nn.BatchNorm2d(out_channels)\n",
    "            )\n",
    "    \n",
    "    def forward(self, x):\n",
    "        skip = self.skip(x)\n",
    "        x = F.relu(self.batch_norm1(self.conv1(x)))\n",
    "        x = self.batch_norm2(self.conv2(x))\n",
    "        return F.relu(skip + x)\n",
    "\n",
    "\n",
    "class ImageClassifier(nn.Module):\n",
    "    def __init__(self):\n",
    "        super(ImageClassifier, self).__init__()\n",
    "        self.conv = nn.Conv2d(3, 64, kernel_size=3, stride=1, padding=1)\n",
    "        self.batch_norm = nn.BatchNorm2d(64)\n",
    "\n",
    "        self.block1 = nn.Sequential(\n",
    "            ResidualBlock(in_channels=64, out_channels=64),\n",
    "            ResidualBlock(in_channels=64, out_channels=64),\n",
    "        )\n",
    "        self.block2 = nn.Sequential(\n",
    "            ResidualBlock(in_channels=64, out_channels=128),\n",
    "            ResidualBlock(in_channels=128, out_channels=128),\n",
    "        )\n",
    "        self.block3 = nn.Sequential(\n",
    "            ResidualBlock(in_channels=128, out_channels=256),\n",
    "            ResidualBlock(in_channels=256, out_channels=256),\n",
    "        )\n",
    "        self.block4 = nn.Sequential(\n",
    "            ResidualBlock(in_channels=256, out_channels=512),\n",
    "            ResidualBlock(in_channels=512, out_channels=512),\n",
    "        )\n",
    "\n",
    "        self.avg_pool = nn.AvgPool2d(4)\n",
    "        \n",
    "        self.linear = nn.Linear(512, N_CLASSES)\n",
    "    \n",
    "    def forward(self, x):\n",
    "        x = F.relu(self.batch_norm(self.conv(x)))\n",
    "        x = self.block1(x)\n",
    "        x = self.block2(x)\n",
    "        x = self.block3(x)\n",
    "        x = self.block4(x)\n",
    "        x = self.avg_pool(x)\n",
    "        x = torch.flatten(x, 1)\n",
    "        x = self.linear(x)\n",
    "        return x"
   ]
  },
  {
   "cell_type": "markdown",
   "metadata": {},
   "source": [
    "# Train, Evaluate, Score\n",
    "- train_epoch: implements the training loop, which inputs images into the model, computes the cross entropy loss between the model outputs and labels, and backpropagates\n",
    "- evaluate: implements the validation loop, which evaluates the model performance with the cross entropy loss as the metric (temporarily)\n",
    "- score: implements the testing loop, which computes the trained model's performance on the unseen test data"
   ]
  },
  {
   "cell_type": "code",
   "execution_count": 13,
   "metadata": {},
   "outputs": [],
   "source": [
    "def train_epoch(train_dataloader: DataLoader, model: ImageClassifier, optimizer):\n",
    "    model.train()\n",
    "    losses = 0\n",
    "\n",
    "    for i, (images, labels) in enumerate(tqdm(train_dataloader)):\n",
    "        images = images.to(DEVICE)\n",
    "        labels = labels.to(DEVICE)\n",
    "\n",
    "        logits = model(images)\n",
    "        loss = F.cross_entropy(logits, labels)\n",
    "        loss.backward()\n",
    "\n",
    "        optimizer.step()\n",
    "        optimizer.zero_grad()\n",
    "\n",
    "        losses += loss.item()\n",
    "        \n",
    "        if ((i + 1) % LOG_INTERVAL == 0) or (i + 1 == len(train_dataloader)):\n",
    "            wandb.log({ \"loss\": loss.item() })\n",
    "\n",
    "    return losses / len(train_dataloader)"
   ]
  },
  {
   "cell_type": "code",
   "execution_count": 14,
   "metadata": {},
   "outputs": [],
   "source": [
    "def evaluate(val_dataloader: DataLoader, model: ImageClassifier):\n",
    "    model.eval()\n",
    "    losses = 0\n",
    "\n",
    "    for images, labels in tqdm(val_dataloader):\n",
    "        images = images.to(DEVICE)\n",
    "        labels = labels.to(DEVICE)\n",
    "\n",
    "        logits = model(images)\n",
    "        loss = F.cross_entropy(logits, labels)\n",
    "\n",
    "        losses += loss.item()\n",
    "\n",
    "    return losses / len(val_dataloader)"
   ]
  },
  {
   "cell_type": "code",
   "execution_count": 15,
   "metadata": {},
   "outputs": [],
   "source": [
    "def score(test_dataloader: DataLoader, model: ImageClassifier):\n",
    "    model.eval()\n",
    "    losses = 0\n",
    "    acc = 0\n",
    "\n",
    "    for images, labels in test_dataloader:\n",
    "        images = images.to(DEVICE)\n",
    "        labels = labels.to(DEVICE)\n",
    "\n",
    "        logits = model(images)\n",
    "        loss = F.cross_entropy(logits, labels)\n",
    "\n",
    "        losses += loss.item()\n",
    "        _, max = torch.max(logits, dim=-1)\n",
    "        acc += torch.sum(max == labels).item()\n",
    "        \n",
    "    return losses / len(test_dataloader), acc / len(test_iter)"
   ]
  },
  {
   "cell_type": "code",
   "execution_count": null,
   "metadata": {},
   "outputs": [],
   "source": [
    "model = ImageClassifier()\n",
    "model.to(DEVICE)\n",
    "wandb.watch(model, log_freq=LOG_INTERVAL)\n",
    "\n",
    "optimizer = SGD(model.parameters(), lr=LEARNING_RATE, momentum=0.9, weight_decay=0.0005)\n",
    "scheduler = ReduceLROnPlateau(optimizer, factor=0.1, patience=3, threshold=0.001)\n",
    "\n",
    "for epoch in range(EPOCHS):\n",
    "    train_loss = train_epoch(train_dataloader, model, optimizer)\n",
    "    val_loss = evaluate(val_dataloader, model)\n",
    "    print(f\"Epoch: {epoch}, Train loss: {train_loss:.3f}, Val loss: {val_loss:.3f}\")\n",
    "    scheduler.step(val_loss)\n",
    "    wandb.log({ \"lr\": optimizer.param_groups[0]['lr'] })\n",
    "    if epoch % 5 == 0:\n",
    "        torch.save({\n",
    "            'model_state_dict': model.state_dict(),\n",
    "            'optimizer_state_dict': optimizer.state_dict(),\n",
    "            'scheduler_state_dict': scheduler.state_dict(),\n",
    "            'train_loss': train_loss,\n",
    "            'val_loss': val_loss\n",
    "        }, CHECKPOINT_FOLDER + f'/cifar_epoch{epoch}.pt')"
   ]
  },
  {
   "cell_type": "code",
   "execution_count": 29,
   "metadata": {},
   "outputs": [
    {
     "name": "stdout",
     "output_type": "stream",
     "text": [
      "0.2601817424727392 0.9174\n"
     ]
    }
   ],
   "source": [
    "model = ImageClassifier()\n",
    "model.load_state_dict(torch.load('checkpoint/cifar_epoch100.pt')['model_state_dict'])\n",
    "model.to(DEVICE)\n",
    "\n",
    "test_loss, test_acc = score(test_dataloader, model)\n",
    "print(test_loss, test_acc)"
   ]
  },
  {
   "cell_type": "code",
   "execution_count": null,
   "metadata": {},
   "outputs": [],
   "source": []
  }
 ],
 "metadata": {
  "kernelspec": {
   "display_name": "playground",
   "language": "python",
   "name": "python3"
  },
  "language_info": {
   "codemirror_mode": {
    "name": "ipython",
    "version": 3
   },
   "file_extension": ".py",
   "mimetype": "text/x-python",
   "name": "python",
   "nbconvert_exporter": "python",
   "pygments_lexer": "ipython3",
   "version": "3.11.4"
  },
  "orig_nbformat": 4
 },
 "nbformat": 4,
 "nbformat_minor": 2
}
